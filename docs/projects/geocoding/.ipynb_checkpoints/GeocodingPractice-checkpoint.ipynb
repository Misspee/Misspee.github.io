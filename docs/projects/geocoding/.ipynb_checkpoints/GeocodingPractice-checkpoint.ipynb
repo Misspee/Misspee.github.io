{
 "cells": [
  {
   "cell_type": "code",
   "execution_count": 1,
   "id": "4c25c8c3-da46-48bd-bbe2-4dd134fa6b57",
   "metadata": {},
   "outputs": [],
   "source": [
    "import pandas as pd\n",
    "import geopy\n",
    "import numpy as np"
   ]
  },
  {
   "cell_type": "code",
   "execution_count": 6,
   "id": "0a137c6e-fb45-4846-bc9c-ed0b9929f423",
   "metadata": {},
   "outputs": [
    {
     "data": {
      "text/html": [
       "<div>\n",
       "<style scoped>\n",
       "    .dataframe tbody tr th:only-of-type {\n",
       "        vertical-align: middle;\n",
       "    }\n",
       "\n",
       "    .dataframe tbody tr th {\n",
       "        vertical-align: top;\n",
       "    }\n",
       "\n",
       "    .dataframe thead th {\n",
       "        text-align: right;\n",
       "    }\n",
       "</style>\n",
       "<table border=\"1\" class=\"dataframe\">\n",
       "  <thead>\n",
       "    <tr style=\"text-align: right;\">\n",
       "      <th></th>\n",
       "      <th>ADDRESS</th>\n",
       "      <th>STATE</th>\n",
       "      <th>STREET_NAME</th>\n",
       "    </tr>\n",
       "  </thead>\n",
       "  <tbody>\n",
       "    <tr>\n",
       "      <th>0</th>\n",
       "      <td>2 E 55th St Unit 803</td>\n",
       "      <td>New York, NY 10022</td>\n",
       "      <td>East 55th Street</td>\n",
       "    </tr>\n",
       "    <tr>\n",
       "      <th>1</th>\n",
       "      <td>Central Park Tower Penthouse-217 W 57th New Yo...</td>\n",
       "      <td>New York, NY 10019</td>\n",
       "      <td>New York</td>\n",
       "    </tr>\n",
       "    <tr>\n",
       "      <th>2</th>\n",
       "      <td>620 Sinclair Ave</td>\n",
       "      <td>Staten Island, NY 10312</td>\n",
       "      <td>Staten Island</td>\n",
       "    </tr>\n",
       "    <tr>\n",
       "      <th>3</th>\n",
       "      <td>2 E 55th St Unit 908W33</td>\n",
       "      <td>Manhattan, NY 10022</td>\n",
       "      <td>New York</td>\n",
       "    </tr>\n",
       "    <tr>\n",
       "      <th>4</th>\n",
       "      <td>5 E 64th St</td>\n",
       "      <td>New York, NY 10065</td>\n",
       "      <td>New York</td>\n",
       "    </tr>\n",
       "  </tbody>\n",
       "</table>\n",
       "</div>"
      ],
      "text/plain": [
       "                                             ADDRESS                    STATE  \\\n",
       "0                               2 E 55th St Unit 803       New York, NY 10022   \n",
       "1  Central Park Tower Penthouse-217 W 57th New Yo...       New York, NY 10019   \n",
       "2                                   620 Sinclair Ave  Staten Island, NY 10312   \n",
       "3                            2 E 55th St Unit 908W33      Manhattan, NY 10022   \n",
       "4                                        5 E 64th St       New York, NY 10065   \n",
       "\n",
       "        STREET_NAME  \n",
       "0  East 55th Street  \n",
       "1          New York  \n",
       "2     Staten Island  \n",
       "3          New York  \n",
       "4          New York  "
      ]
     },
     "execution_count": 6,
     "metadata": {},
     "output_type": "execute_result"
    }
   ],
   "source": [
    "#creating a list of columns to be used in the dataframe using l_cols, then reading the data\n",
    "l_cols=['ADDRESS','STREET_NAME','STATE']\n",
    "df=pd.read_csv(r\"C:\\Users\\dell\\Desktop\\GIS portfolio\\geocoding\\NY-House-Dataset.csv\",encoding=\"ISO-8859-1\",usecols=l_cols)\n",
    "df.head()"
   ]
  },
  {
   "cell_type": "code",
   "execution_count": 29,
   "id": "da39e8e4-9d29-47b1-8278-231f821a4e7d",
   "metadata": {},
   "outputs": [
    {
     "data": {
      "text/html": [
       "<div>\n",
       "<style scoped>\n",
       "    .dataframe tbody tr th:only-of-type {\n",
       "        vertical-align: middle;\n",
       "    }\n",
       "\n",
       "    .dataframe tbody tr th {\n",
       "        vertical-align: top;\n",
       "    }\n",
       "\n",
       "    .dataframe thead th {\n",
       "        text-align: right;\n",
       "    }\n",
       "</style>\n",
       "<table border=\"1\" class=\"dataframe\">\n",
       "  <thead>\n",
       "    <tr style=\"text-align: right;\">\n",
       "      <th></th>\n",
       "      <th>ADDRESS</th>\n",
       "      <th>STATE</th>\n",
       "      <th>STREET_NAME</th>\n",
       "      <th>Country</th>\n",
       "      <th>unique_address</th>\n",
       "    </tr>\n",
       "  </thead>\n",
       "  <tbody>\n",
       "    <tr>\n",
       "      <th>0</th>\n",
       "      <td>2 E 55th St Unit 803</td>\n",
       "      <td>New York, NY 10022</td>\n",
       "      <td>East 55th Street</td>\n",
       "      <td>United States Of America</td>\n",
       "      <td>2 E 55th St Unit 803,East 55th Street,New York...</td>\n",
       "    </tr>\n",
       "    <tr>\n",
       "      <th>1</th>\n",
       "      <td>Central Park Tower Penthouse-217 W 57th New Yo...</td>\n",
       "      <td>New York, NY 10019</td>\n",
       "      <td>New York</td>\n",
       "      <td>United States Of America</td>\n",
       "      <td>Central Park Tower Penthouse-217 W 57th New Yo...</td>\n",
       "    </tr>\n",
       "    <tr>\n",
       "      <th>2</th>\n",
       "      <td>620 Sinclair Ave</td>\n",
       "      <td>Staten Island, NY 10312</td>\n",
       "      <td>Staten Island</td>\n",
       "      <td>United States Of America</td>\n",
       "      <td>620 Sinclair Ave,Staten Island,Staten Island, ...</td>\n",
       "    </tr>\n",
       "    <tr>\n",
       "      <th>3</th>\n",
       "      <td>2 E 55th St Unit 908W33</td>\n",
       "      <td>Manhattan, NY 10022</td>\n",
       "      <td>New York</td>\n",
       "      <td>United States Of America</td>\n",
       "      <td>2 E 55th St Unit 908W33,New York,Manhattan, NY...</td>\n",
       "    </tr>\n",
       "    <tr>\n",
       "      <th>4</th>\n",
       "      <td>5 E 64th St</td>\n",
       "      <td>New York, NY 10065</td>\n",
       "      <td>New York</td>\n",
       "      <td>United States Of America</td>\n",
       "      <td>5 E 64th St,New York,New York, NY 10065</td>\n",
       "    </tr>\n",
       "  </tbody>\n",
       "</table>\n",
       "</div>"
      ],
      "text/plain": [
       "                                             ADDRESS                    STATE  \\\n",
       "0                               2 E 55th St Unit 803       New York, NY 10022   \n",
       "1  Central Park Tower Penthouse-217 W 57th New Yo...       New York, NY 10019   \n",
       "2                                   620 Sinclair Ave  Staten Island, NY 10312   \n",
       "3                            2 E 55th St Unit 908W33      Manhattan, NY 10022   \n",
       "4                                        5 E 64th St       New York, NY 10065   \n",
       "\n",
       "        STREET_NAME                   Country  \\\n",
       "0  East 55th Street  United States Of America   \n",
       "1          New York  United States Of America   \n",
       "2     Staten Island  United States Of America   \n",
       "3          New York  United States Of America   \n",
       "4          New York  United States Of America   \n",
       "\n",
       "                                      unique_address  \n",
       "0  2 E 55th St Unit 803,East 55th Street,New York...  \n",
       "1  Central Park Tower Penthouse-217 W 57th New Yo...  \n",
       "2  620 Sinclair Ave,Staten Island,Staten Island, ...  \n",
       "3  2 E 55th St Unit 908W33,New York,Manhattan, NY...  \n",
       "4            5 E 64th St,New York,New York, NY 10065  "
      ]
     },
     "execution_count": 29,
     "metadata": {},
     "output_type": "execute_result"
    }
   ],
   "source": [
    "#creating a unique column that merges all the information of these columns most efficient way to concatenate more than two columns is by using pandas.series.str.cat()\n",
    "l_cols_concat=['STREET_NAME','STATE']\n",
    "df['unique_address']=df['ADDRESS'].str.cat(others=df[l_cols_concat],sep=',',na_rep='')\n",
    "df.head()"
   ]
  },
  {
   "cell_type": "code",
   "execution_count": 30,
   "id": "dbc58998-064d-40a3-b6e1-8380cff9302f",
   "metadata": {},
   "outputs": [
    {
     "name": "stdout",
     "output_type": "stream",
     "text": [
      "2 E 55th St Unit 803,East 55th Street,New York, NY 10022\n"
     ]
    }
   ],
   "source": [
    "#creating a string variable 'address1'\n",
    "address1=df['unique_address'].iloc[0]\n",
    "print(address1)"
   ]
  },
  {
   "cell_type": "code",
   "execution_count": 37,
   "id": "65c246e5-ddbc-49e6-ab42-dec56ab823c7",
   "metadata": {},
   "outputs": [],
   "source": [
    "#create a function service_geocode that takes two arguments g_locator and ADDRESS and if location is not None it returns a tuple of the latitude and longitude and  if it Location is None it returns np.Nan\n",
    "def service_geocode(g_locator,ADDRESS):\n",
    "    location=g_locator.geocode(ADDRESS)\n",
    "    if location!=None:\n",
    "        return(location.latitude,location.longitude)\n",
    "    else:\n",
    "        return np.NaN"
   ]
  },
  {
   "cell_type": "code",
   "execution_count": 38,
   "id": "aa36b6dc-3ca2-44ff-87ee-4b8d70d5757c",
   "metadata": {},
   "outputs": [
    {
     "name": "stdout",
     "output_type": "stream",
     "text": [
      "None\n"
     ]
    }
   ],
   "source": [
    "#since we are using OpenStreetMap API Nominatim is imported\n",
    "from geopy.geocoders import Nominatim\n",
    "geolocator=Nominatim(user_agent=\"chisengapee@gmail.com\",timeout=(10))\n",
    "location=geolocator.geocode(address1)\n",
    "print(location)"
   ]
  },
  {
   "cell_type": "code",
   "execution_count": null,
   "id": "17ee556c-a37d-45ee-afcc-9b515764de5c",
   "metadata": {},
   "outputs": [],
   "source": [
    "#apply the service_geocode() function to all column unique_adress\n",
    "df['LAT_LON']=df['unique_address'].apply(lambda x: service_geocode(geolocator,x))\n",
    "df[['unique_address','LAT_LON']].head()"
   ]
  },
  {
   "cell_type": "code",
   "execution_count": null,
   "id": "d2d640b9-ecae-4886-aeb9-e4bb8a65761d",
   "metadata": {},
   "outputs": [],
   "source": []
  }
 ],
 "metadata": {
  "kernelspec": {
   "display_name": "Python 3 (ipykernel)",
   "language": "python",
   "name": "python3"
  },
  "language_info": {
   "codemirror_mode": {
    "name": "ipython",
    "version": 3
   },
   "file_extension": ".py",
   "mimetype": "text/x-python",
   "name": "python",
   "nbconvert_exporter": "python",
   "pygments_lexer": "ipython3",
   "version": "3.9.21"
  }
 },
 "nbformat": 4,
 "nbformat_minor": 5
}
