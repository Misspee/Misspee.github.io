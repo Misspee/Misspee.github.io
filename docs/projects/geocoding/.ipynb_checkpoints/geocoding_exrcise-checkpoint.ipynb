{
 "cells": [
  {
   "cell_type": "code",
   "execution_count": 1,
   "id": "09faf272-06f6-4ce5-80e6-640a27311ae5",
   "metadata": {},
   "outputs": [],
   "source": [
    "import pandas as pd\n",
    "from geopy.geocoders import Nominatim\n",
    "from time import sleep"
   ]
  },
  {
   "cell_type": "code",
   "execution_count": null,
   "id": "5e870ede-8442-45c3-8e6b-dce0ef87303c",
   "metadata": {},
   "outputs": [],
   "source": []
  },
  {
   "cell_type": "code",
   "execution_count": 7,
   "id": "af4e593a-bba8-4b1a-a6cf-2301de5ee3f9",
   "metadata": {},
   "outputs": [
    {
     "data": {
      "text/html": [
       "<div>\n",
       "<style scoped>\n",
       "    .dataframe tbody tr th:only-of-type {\n",
       "        vertical-align: middle;\n",
       "    }\n",
       "\n",
       "    .dataframe tbody tr th {\n",
       "        vertical-align: top;\n",
       "    }\n",
       "\n",
       "    .dataframe thead th {\n",
       "        text-align: right;\n",
       "    }\n",
       "</style>\n",
       "<table border=\"1\" class=\"dataframe\">\n",
       "  <thead>\n",
       "    <tr style=\"text-align: right;\">\n",
       "      <th></th>\n",
       "      <th>0</th>\n",
       "      <th>1</th>\n",
       "    </tr>\n",
       "  </thead>\n",
       "  <tbody>\n",
       "    <tr>\n",
       "      <th>0</th>\n",
       "      <td>Norman Thomas HS (ECF)</td>\n",
       "      <td>111 E 33rd St, NYC,New York</td>\n",
       "    </tr>\n",
       "    <tr>\n",
       "      <th>1</th>\n",
       "      <td>Midtown East Campus</td>\n",
       "      <td>233 E 56th St ,NYC, New York</td>\n",
       "    </tr>\n",
       "    <tr>\n",
       "      <th>2</th>\n",
       "      <td>Louis D. Brandels HS</td>\n",
       "      <td>145 W 84th St,NYC,New York</td>\n",
       "    </tr>\n",
       "    <tr>\n",
       "      <th>3</th>\n",
       "      <td>Martin Luther King, Jr. HS</td>\n",
       "      <td>122 Amsterdam Avenue, NYC,New York</td>\n",
       "    </tr>\n",
       "    <tr>\n",
       "      <th>4</th>\n",
       "      <td>P.S. 48</td>\n",
       "      <td>4360 Broadway, NYC New York</td>\n",
       "    </tr>\n",
       "  </tbody>\n",
       "</table>\n",
       "</div>"
      ],
      "text/plain": [
       "                            0                                   1\n",
       "0      Norman Thomas HS (ECF)         111 E 33rd St, NYC,New York\n",
       "1         Midtown East Campus        233 E 56th St ,NYC, New York\n",
       "2        Louis D. Brandels HS          145 W 84th St,NYC,New York\n",
       "3  Martin Luther King, Jr. HS  122 Amsterdam Avenue, NYC,New York\n",
       "4                     P.S. 48         4360 Broadway, NYC New York"
      ]
     },
     "execution_count": 7,
     "metadata": {},
     "output_type": "execute_result"
    }
   ],
   "source": [
    "#Given a list of addresses the goal is to geocode the addresses\n",
    "locations=[\n",
    "('Norman Thomas HS (ECF)','111 E 33rd St, NYC,New York'),\n",
    "('Midtown East Campus','233 E 56th St ,NYC, New York'),\n",
    "('Louis D. Brandels HS','145 W 84th St,NYC,New York'),\n",
    "('Martin Luther King, Jr. HS','122 Amsterdam Avenue, NYC,New York'),\n",
    "('P.S. 48','4360 Broadway, NYC New York' )\n",
    "]\n",
    "df=pd.DataFrame(locations)\n",
    "df.head()"
   ]
  },
  {
   "cell_type": "code",
   "execution_count": 14,
   "id": "9f042972-4bbb-4e19-8a87-640ac0e58b68",
   "metadata": {},
   "outputs": [
    {
     "name": "stdout",
     "output_type": "stream",
     "text": [
      "                                           locations\n",
      "0  Norman Thomas HS (ECF),111 E 33rd St, NYC,New ...\n",
      "1   Midtown East Campus,233 E 56th St ,NYC, New York\n",
      "2    Louis D. Brandels HS,145 W 84th St,NYC,New York\n",
      "3  Martin Luther King, Jr. HS,122 Amsterdam Avenu...\n",
      "4                P.S. 48,4360 Broadway, NYC New York\n"
     ]
    }
   ],
   "source": [
    "#concatinating the above two columns into one column\n",
    "df['locations']=df[0]+','+df[1]\n",
    "#displaying the result\n",
    "print(df[['locations']].head())"
   ]
  },
  {
   "cell_type": "code",
   "execution_count": 8,
   "id": "da3a33d6-3d6b-4c94-82d1-9aa8a4f6eddd",
   "metadata": {},
   "outputs": [],
   "source": [
    "#intialize geocoder\n",
    "geolocator=Nominatim(user_agent='chisengapee@gmail.com')"
   ]
  },
  {
   "cell_type": "code",
   "execution_count": 12,
   "id": "60347455-4311-4f08-8947-9b8e8e7d82dd",
   "metadata": {},
   "outputs": [],
   "source": [
    "#function to get the coordinates\n",
    "def geocode_places(locations):\n",
    "    coordinates=geolocator.geocode(locations,timeout=10)\n",
    "    if coordinates!=None:\n",
    "        return pd.Series([coordinates.latitude,coordinates.longitude])\n",
    "    else:\n",
    "        return pd.Series([None,None])\n",
    "  "
   ]
  },
  {
   "cell_type": "code",
   "execution_count": 17,
   "id": "54a4cf84-d4a3-493e-9ed2-206f35183d33",
   "metadata": {},
   "outputs": [
    {
     "name": "stdout",
     "output_type": "stream",
     "text": [
      "Geocoding Complete!!!\n"
     ]
    }
   ],
   "source": [
    "#applying function to dataset\n",
    "df[['Latitude','Longitude']]=df['locations'].apply(lambda x: geocode_places(x))\n",
    "#saving as a csv\n",
    "df.to_csv(\"geocoding_assignment.csv\",index=False)\n",
    "print(\"Geocoding Complete!!!\")"
   ]
  },
  {
   "cell_type": "code",
   "execution_count": null,
   "id": "b268c11e-5eda-4441-b68e-cbecbc7bc258",
   "metadata": {},
   "outputs": [],
   "source": []
  }
 ],
 "metadata": {
  "kernelspec": {
   "display_name": "Python 3 (ipykernel)",
   "language": "python",
   "name": "python3"
  },
  "language_info": {
   "codemirror_mode": {
    "name": "ipython",
    "version": 3
   },
   "file_extension": ".py",
   "mimetype": "text/x-python",
   "name": "python",
   "nbconvert_exporter": "python",
   "pygments_lexer": "ipython3",
   "version": "3.9.21"
  }
 },
 "nbformat": 4,
 "nbformat_minor": 5
}
