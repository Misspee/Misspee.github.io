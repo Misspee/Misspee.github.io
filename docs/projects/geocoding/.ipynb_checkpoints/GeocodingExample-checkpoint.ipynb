{
 "cells": [
  {
   "cell_type": "code",
   "execution_count": 1,
   "id": "89e0aa00-e0c7-46b3-8b3f-997c5cb7804d",
   "metadata": {},
   "outputs": [],
   "source": [
    "from geopy.geocoders import Nominatim\n",
    "import pandas as pd"
   ]
  },
  {
   "cell_type": "code",
   "execution_count": 7,
   "id": "d005e1b4-cce3-4d1c-b93a-3287dd821aeb",
   "metadata": {},
   "outputs": [],
   "source": [
    "#create a function called get coordinates\n",
    "def get_coordinates(location_name):\n",
    "    geolocator=Nominatim(user_agent=\"geoapiExercises\")\n",
    "    location=geolocator.geocode(location_name)\n",
    "    return location.latitude,location.longitude\n",
    "    if _name_==\"_main_\":\n",
    "        location_name=\"London\"\n",
    "    latitude,longitude=get_coordinates(location_name)\n",
    "    print(f\"latitude: {latitude},longitude:{longitude}\")"
   ]
  },
  {
   "cell_type": "code",
   "execution_count": null,
   "id": "850f30d3-4443-49a0-afd7-202c1d5a39a0",
   "metadata": {},
   "outputs": [],
   "source": []
  },
  {
   "cell_type": "code",
   "execution_count": null,
   "id": "86e4ff75-6474-4e98-bf64-c7be49f26ed2",
   "metadata": {},
   "outputs": [],
   "source": []
  }
 ],
 "metadata": {
  "kernelspec": {
   "display_name": "Python 3 (ipykernel)",
   "language": "python",
   "name": "python3"
  },
  "language_info": {
   "codemirror_mode": {
    "name": "ipython",
    "version": 3
   },
   "file_extension": ".py",
   "mimetype": "text/x-python",
   "name": "python",
   "nbconvert_exporter": "python",
   "pygments_lexer": "ipython3",
   "version": "3.9.21"
  }
 },
 "nbformat": 4,
 "nbformat_minor": 5
}
