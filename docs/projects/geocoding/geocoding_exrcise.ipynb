{
 "cells": [
  {
   "cell_type": "code",
   "execution_count": 1,
   "id": "09faf272-06f6-4ce5-80e6-640a27311ae5",
   "metadata": {},
   "outputs": [],
   "source": [
    "import pandas as pd\n",
    "from geopy.geocoders import Nominatim\n",
    "from time import sleep"
   ]
  },
  {
   "cell_type": "code",
   "execution_count": 2,
   "id": "af4e593a-bba8-4b1a-a6cf-2301de5ee3f9",
   "metadata": {},
   "outputs": [
    {
     "data": {
      "text/html": [
       "<div>\n",
       "<style scoped>\n",
       "    .dataframe tbody tr th:only-of-type {\n",
       "        vertical-align: middle;\n",
       "    }\n",
       "\n",
       "    .dataframe tbody tr th {\n",
       "        vertical-align: top;\n",
       "    }\n",
       "\n",
       "    .dataframe thead th {\n",
       "        text-align: right;\n",
       "    }\n",
       "</style>\n",
       "<table border=\"1\" class=\"dataframe\">\n",
       "  <thead>\n",
       "    <tr style=\"text-align: right;\">\n",
       "      <th></th>\n",
       "      <th>City</th>\n",
       "      <th>Country</th>\n",
       "    </tr>\n",
       "  </thead>\n",
       "  <tbody>\n",
       "    <tr>\n",
       "      <th>0</th>\n",
       "      <td>Harare</td>\n",
       "      <td>Zimbabwe</td>\n",
       "    </tr>\n",
       "    <tr>\n",
       "      <th>1</th>\n",
       "      <td>New York</td>\n",
       "      <td>USA</td>\n",
       "    </tr>\n",
       "    <tr>\n",
       "      <th>2</th>\n",
       "      <td>London</td>\n",
       "      <td>United Kingdom</td>\n",
       "    </tr>\n",
       "    <tr>\n",
       "      <th>3</th>\n",
       "      <td>Tokyo</td>\n",
       "      <td>Japan</td>\n",
       "    </tr>\n",
       "    <tr>\n",
       "      <th>4</th>\n",
       "      <td>Paris</td>\n",
       "      <td>France</td>\n",
       "    </tr>\n",
       "  </tbody>\n",
       "</table>\n",
       "</div>"
      ],
      "text/plain": [
       "       City         Country\n",
       "0    Harare        Zimbabwe\n",
       "1  New York             USA\n",
       "2    London  United Kingdom\n",
       "3     Tokyo           Japan\n",
       "4     Paris          France"
      ]
     },
     "execution_count": 2,
     "metadata": {},
     "output_type": "execute_result"
    }
   ],
   "source": [
    "#Given a list of addresses the goal is to geocode the addresses\n",
    "world_cities=pd.read_csv(r\"docs\\projects\\geocoding\\world_cities.csv\")\n",
    "df=pd.DataFrame(world_cities)\n",
    "df.head()"
   ]
  },
  {
   "cell_type": "code",
   "execution_count": 4,
   "id": "9f042972-4bbb-4e19-8a87-640ac0e58b68",
   "metadata": {},
   "outputs": [
    {
     "name": "stdout",
     "output_type": "stream",
     "text": [
      "          unique_address\n",
      "0        Harare,Zimbabwe\n",
      "1           New York,USA\n",
      "2  London,United Kingdom\n",
      "3            Tokyo,Japan\n",
      "4           Paris,France\n"
     ]
    }
   ],
   "source": [
    "#concatinating the above two columns into one column\n",
    "df['unique_address']=df['City']+','+df['Country']\n",
    "#displaying the result\n",
    "print(df[['unique_address']].head())"
   ]
  },
  {
   "cell_type": "code",
   "execution_count": 5,
   "id": "da3a33d6-3d6b-4c94-82d1-9aa8a4f6eddd",
   "metadata": {},
   "outputs": [],
   "source": [
    "#intialize geocoder\n",
    "geolocator=Nominatim(user_agent='chisengapee@gmail.com')"
   ]
  },
  {
   "cell_type": "code",
   "execution_count": 6,
   "id": "60347455-4311-4f08-8947-9b8e8e7d82dd",
   "metadata": {},
   "outputs": [],
   "source": [
    "#function to get the coordinates\n",
    "def geocode_places(unique_address):\n",
    "    coordinates=geolocator.geocode(unique_address,timeout=10)\n",
    "    if coordinates!=None:\n",
    "        return pd.Series([coordinates.latitude,coordinates.longitude])\n",
    "    else:\n",
    "        return pd.Series([None,None])\n",
    "  "
   ]
  },
  {
   "cell_type": "code",
   "execution_count": 8,
   "id": "54a4cf84-d4a3-493e-9ed2-206f35183d33",
   "metadata": {},
   "outputs": [
    {
     "name": "stdout",
     "output_type": "stream",
     "text": [
      "Geocoding Complete!!!\n"
     ]
    }
   ],
   "source": [
    "#applying function to dataset\n",
    "df[['Latitude','Longitude']]=df['unique_address'].apply(lambda x: geocode_places(x))\n",
    "#saving our geocoded addresses as a csv with both latitude and Longitude\n",
    "df.to_csv(\"worldcities_geocoded.csv\",index=False)\n",
    "print(\"Geocoding Complete!!!\")"
   ]
  },
  {
   "cell_type": "code",
   "execution_count": null,
   "id": "b268c11e-5eda-4441-b68e-cbecbc7bc258",
   "metadata": {},
   "outputs": [],
   "source": []
  }
 ],
 "metadata": {
  "kernelspec": {
   "display_name": "Python 3 (ipykernel)",
   "language": "python",
   "name": "python3"
  },
  "language_info": {
   "codemirror_mode": {
    "name": "ipython",
    "version": 3
   },
   "file_extension": ".py",
   "mimetype": "text/x-python",
   "name": "python",
   "nbconvert_exporter": "python",
   "pygments_lexer": "ipython3",
   "version": "3.9.21"
  }
 },
 "nbformat": 4,
 "nbformat_minor": 5
}
